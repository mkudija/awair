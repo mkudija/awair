{
 "cells": [
  {
   "cell_type": "code",
   "execution_count": 1,
   "metadata": {
    "ExecuteTime": {
     "end_time": "2020-05-27T16:50:43.543183Z",
     "start_time": "2020-05-27T16:50:43.534849Z"
    }
   },
   "outputs": [],
   "source": [
    "import datetime\n",
    "datetime.datetime.now().isoformat()"
   ]
  },
  {
   "cell_type": "code",
   "execution_count": 2,
   "metadata": {
    "ExecuteTime": {
     "end_time": "2020-05-27T16:50:44.362286Z",
     "start_time": "2020-05-27T16:50:43.544736Z"
    }
   },
   "outputs": [],
   "source": [
    "import pandas as pd\n",
    "import requests\n",
    "import json\n",
    "import pprint as pprint"
   ]
  },
  {
   "cell_type": "code",
   "execution_count": 3,
   "metadata": {
    "ExecuteTime": {
     "end_time": "2020-05-27T16:50:44.366388Z",
     "start_time": "2020-05-27T16:50:44.363794Z"
    }
   },
   "outputs": [],
   "source": [
    "access_token = file1 = open('/Users/matthewkudija/Downloads/awair-access-token.txt','r').read()"
   ]
  },
  {
   "cell_type": "markdown",
   "metadata": {},
   "source": [
    "## API General"
   ]
  },
  {
   "cell_type": "markdown",
   "metadata": {},
   "source": [
    "### Device Info"
   ]
  },
  {
   "cell_type": "code",
   "execution_count": 4,
   "metadata": {
    "ExecuteTime": {
     "end_time": "2020-05-27T16:50:44.728616Z",
     "start_time": "2020-05-27T16:50:44.367897Z"
    }
   },
   "outputs": [
    {
     "name": "stdout",
     "output_type": "stream",
     "text": [
      "{'devices': [{'deviceId': 1714,\n",
      "              'deviceType': 'awair-element',\n",
      "              'deviceUUID': 'awair-element_1714',\n",
      "              'latitude': 40.00230100151362,\n",
      "              'locationName': 'Columbus, OH',\n",
      "              'longitude': -83.09730664487547,\n",
      "              'macAddress': '70886B1404D0',\n",
      "              'name': 'Awair',\n",
      "              'preference': 'GENERAL',\n",
      "              'roomType': 'BEDROOM',\n",
      "              'spaceType': 'HOME',\n",
      "              'timezone': 'America/New_York'}]}\n"
     ]
    }
   ],
   "source": [
    "url = \"https://developer-apis.awair.is/v1/users/self/devices\"\n",
    "\n",
    "payload = {}\n",
    "headers = {\n",
    "  'Authorization': 'Bearer '+access_token\n",
    "}\n",
    "\n",
    "response = requests.request(\"GET\", url, headers=headers, data = payload)\n",
    "\n",
    "# print(response.text.encode('utf8'))\n",
    "pprint.pprint(json.loads(response.text))"
   ]
  },
  {
   "cell_type": "markdown",
   "metadata": {},
   "source": [
    "### User Info"
   ]
  },
  {
   "cell_type": "code",
   "execution_count": 5,
   "metadata": {
    "ExecuteTime": {
     "end_time": "2020-05-27T16:50:44.732372Z",
     "start_time": "2020-05-27T16:50:44.730186Z"
    }
   },
   "outputs": [],
   "source": [
    "# url = \"https://developer-apis.awair.is/v1/users/self\"\n",
    "\n",
    "# payload = {}\n",
    "# headers = {\n",
    "#   'Authorization': 'Bearer '+access_token\n",
    "# }\n",
    "\n",
    "# response = requests.request(\"GET\", url, headers=headers, data = payload)\n",
    "\n",
    "# pprint.pprint(json.loads(response.text))"
   ]
  },
  {
   "cell_type": "markdown",
   "metadata": {},
   "source": [
    "### Device API Usage"
   ]
  },
  {
   "cell_type": "code",
   "execution_count": 6,
   "metadata": {
    "ExecuteTime": {
     "end_time": "2020-05-27T16:50:44.736183Z",
     "start_time": "2020-05-27T16:50:44.733991Z"
    }
   },
   "outputs": [],
   "source": [
    "# device_type = 'awair-element'\n",
    "# device_id = '1714'\n",
    "\n",
    "# url = 'https://developer-apis.awair.is/v1/users/self/devices/{}/{}/api-usages'.format(device_type, device_id)\n",
    "\n",
    "# payload = {}\n",
    "# headers = {\n",
    "#   'Authorization': 'Bearer '+access_token\n",
    "# }\n",
    "\n",
    "# response = requests.request(\"GET\", url, headers=headers, data = payload)\n",
    "\n",
    "# pprint.pprint(json.loads(response.text))"
   ]
  },
  {
   "cell_type": "markdown",
   "metadata": {},
   "source": [
    "## API Data"
   ]
  },
  {
   "cell_type": "markdown",
   "metadata": {},
   "source": [
    "### Get latest data"
   ]
  },
  {
   "cell_type": "code",
   "execution_count": 7,
   "metadata": {
    "ExecuteTime": {
     "end_time": "2020-05-27T16:50:44.938616Z",
     "start_time": "2020-05-27T16:50:44.737820Z"
    }
   },
   "outputs": [
    {
     "name": "stdout",
     "output_type": "stream",
     "text": [
      "{'data': [{'indices': [{'comp': 'temp', 'value': 2.0},\n",
      "                       {'comp': 'humid', 'value': 0.0},\n",
      "                       {'comp': 'co2', 'value': 1.0},\n",
      "                       {'comp': 'voc', 'value': 0.0},\n",
      "                       {'comp': 'pm25', 'value': 0.0}],\n",
      "           'score': 84.0,\n",
      "           'sensors': [{'comp': 'temp', 'value': 79.8439998626709},\n",
      "                       {'comp': 'humid', 'value': 47.470001220703125},\n",
      "                       {'comp': 'co2', 'value': 956.0},\n",
      "                       {'comp': 'voc', 'value': 197.0},\n",
      "                       {'comp': 'pm25', 'value': 1.0}],\n",
      "           'timestamp': '2020-05-27T16:50:43.908Z'}]}\n"
     ]
    }
   ],
   "source": [
    "def get_latest_data(access_token, device_type, device_id, fahrenheit):\n",
    "\n",
    "    url = 'https://developer-apis.awair.is/v1/users/self/devices/{}/{}/air-data/\\\n",
    "latest?fahrenheit={}'.format(device_type,\n",
    "                             device_id,\n",
    "                             fahrenheit)\n",
    "\n",
    "    payload = {}\n",
    "    headers = {\n",
    "      'Authorization': 'Bearer '+access_token\n",
    "    }\n",
    "\n",
    "    response = requests.request(\"GET\", url, headers=headers, data = payload)\n",
    "    \n",
    "    return response\n",
    "\n",
    "\n",
    "device_type = 'awair-element'\n",
    "device_id = '1714'\n",
    "fahrenheit = 'TRUE'\n",
    "\n",
    "response = get_latest_data(access_token, device_type, device_id, fahrenheit)\n",
    "pprint.pprint(json.loads(response.text))"
   ]
  },
  {
   "cell_type": "markdown",
   "metadata": {},
   "source": [
    "### 5-Min Avg Air Data"
   ]
  },
  {
   "cell_type": "code",
   "execution_count": 8,
   "metadata": {
    "ExecuteTime": {
     "end_time": "2020-05-27T16:50:44.943600Z",
     "start_time": "2020-05-27T16:50:44.940922Z"
    }
   },
   "outputs": [],
   "source": [
    "# def get_5_min_data(device_type, device_id, time_from, time_to, limit, desc, fahrenheit):\n",
    "    \n",
    "#     url ='https://developer-apis.awair.is/v1/users/self/devices/{}/{}/air-data/5-min-avg\\\n",
    "# ?from={}&to={}&limit={}&desc={}&fahrenheit={}'.format(device_type,\n",
    "#                                                       device_id,\n",
    "#                                                       time_from,\n",
    "#                                                       time_to,\n",
    "#                                                       limit,\n",
    "#                                                       desc,\n",
    "#                                                       fahrenheit)\n",
    "\n",
    "#     payload = {}\n",
    "#     headers = {\n",
    "#       'Authorization': 'Bearer '+access_token\n",
    "#     }\n",
    "\n",
    "#     response = requests.request(\"GET\", url, headers=headers, data = payload)\n",
    "    \n",
    "#     return response\n",
    "\n",
    "# device_type = 'awair-element'\n",
    "# device_id = '1714'\n",
    "# time_from = '2020-05-26T10:35:00'\n",
    "# time_to = '2020-05-26T10:40:00'\n",
    "# limit = '288'\n",
    "# desc = 'TRUE'\n",
    "# fahrenheit = 'TRUE'\n",
    "\n",
    "# response = get_5_min_data(device_type, device_id, time_from, time_to, limit, desc, fahrenheit)\n",
    "# pprint.pprint(json.loads(response.text))"
   ]
  },
  {
   "cell_type": "markdown",
   "metadata": {},
   "source": [
    "### 15-Min Avg Air Data"
   ]
  },
  {
   "cell_type": "code",
   "execution_count": 9,
   "metadata": {
    "ExecuteTime": {
     "end_time": "2020-05-27T16:50:44.948011Z",
     "start_time": "2020-05-27T16:50:44.945462Z"
    }
   },
   "outputs": [],
   "source": [
    "# def get_15_min_data(device_type, device_id, time_from, time_to, limit, desc, fahrenheit):\n",
    "\n",
    "#     url ='https://developer-apis.awair.is/v1/users/self/devices/{}/{}/air-data/15-min-avg\\\n",
    "# ?from={}&to={}&limit={}&desc={}&fahrenheit={}'.format(device_type,\n",
    "#                                                       device_id,\n",
    "#                                                       time_from,\n",
    "#                                                       time_to,\n",
    "#                                                       limit,\n",
    "#                                                       desc,\n",
    "#                                                       fahrenheit)\n",
    "\n",
    "#     payload = {}\n",
    "#     headers = {\n",
    "#       'Authorization': 'Bearer '+access_token\n",
    "#     }\n",
    "\n",
    "#     response = requests.request(\"GET\", url, headers=headers, data = payload)\n",
    "\n",
    "#     return response\n",
    "\n",
    "    \n",
    "# device_type = 'awair-element'\n",
    "# device_id = '1714'\n",
    "# time_from = '2020-05-26T10:30:00'\n",
    "# time_to = '2020-05-26T10:45:00'\n",
    "# limit = '672'\n",
    "# desc = 'TRUE'\n",
    "# fahrenheit = 'TRUE'\n",
    "\n",
    "# response = get_15_min_data(device_type, device_id, time_from, time_to, limit, desc, fahrenheit)\n",
    "# pprint.pprint(json.loads(response.text))"
   ]
  },
  {
   "cell_type": "markdown",
   "metadata": {},
   "source": [
    "## Process Data"
   ]
  },
  {
   "cell_type": "code",
   "execution_count": 10,
   "metadata": {
    "ExecuteTime": {
     "end_time": "2020-05-27T16:50:44.958061Z",
     "start_time": "2020-05-27T16:50:44.949840Z"
    }
   },
   "outputs": [],
   "source": [
    "def json_to_df(response):\n",
    "    '''\n",
    "    For response like this:\n",
    "    \n",
    "    type(response) = requests.models.Response\n",
    "    \n",
    "    \n",
    "    response = \n",
    "    \n",
    "    {'data': [{'indices': [{'comp': 'temp', 'value': 1.0},\n",
    "                       {'comp': 'humid', 'value': 0.0},\n",
    "                       {'comp': 'co2', 'value': 1.0},\n",
    "                       {'comp': 'voc', 'value': 0.0},\n",
    "                       {'comp': 'pm25', 'value': 0.0}],\n",
    "           'score': 86.0,\n",
    "           'sensors': [{'comp': 'temp', 'value': 79.35799903869629},\n",
    "                       {'comp': 'humid', 'value': 46.349998474121094},\n",
    "                       {'comp': 'co2', 'value': 944.0},\n",
    "                       {'comp': 'voc', 'value': 177.0},\n",
    "                       {'comp': 'pm25', 'value': 1.0}],\n",
    "           'timestamp': '2020-05-27T16:44:42.369Z'}]}\n",
    "    '''\n",
    "\n",
    "\n",
    "    # extract metadata\n",
    "    data = json.loads(response.text)['data']\n",
    "    timestamp = data[0]['timestamp']\n",
    "    date = timestamp[:10]\n",
    "    time = timestamp[11:-1]\n",
    "    score = round(data[0]['score'],1)\n",
    "    \n",
    "    # extract sensor data\n",
    "    from pandas.io.json import json_normalize \n",
    "\n",
    "    sensors = (json_normalize(data, 'sensors')\n",
    "          .set_index('comp')\n",
    "          .T\n",
    "          .round(1)\n",
    "          .reset_index(drop=True)\n",
    "         )\n",
    "\n",
    "    # extract detailed scores\n",
    "    from pandas.io.json import json_normalize \n",
    "\n",
    "    scores = (json_normalize(data, 'indices')\n",
    "          .set_index('comp')\n",
    "          .T\n",
    "          .round(1)\n",
    "          .reset_index(drop=True)\n",
    "          .rename(columns={'temp': 'temp_score',\n",
    "                           'humid': 'humid_score',\n",
    "                           'co2': 'co2_score',\n",
    "                           'voc': 'voc_score',\n",
    "                           'pm25': 'pm25'\n",
    "                          })\n",
    "         )\n",
    "\n",
    "\n",
    "    # create df\n",
    "    df = (pd.DataFrame([[timestamp, date, time, score]], \n",
    "                      columns = ['timestamp', 'date', 'time', 'score'])\n",
    "    #        .set_index('timestamp')\n",
    "         )\n",
    "    \n",
    "    \n",
    "    # concat df\n",
    "    df = pd.concat([df,sensors,scores],\n",
    "                   axis=1,\n",
    "                   sort=True\n",
    "                  )\n",
    "    \n",
    "    return df\n"
   ]
  },
  {
   "cell_type": "code",
   "execution_count": 11,
   "metadata": {
    "ExecuteTime": {
     "end_time": "2020-05-27T16:50:44.988989Z",
     "start_time": "2020-05-27T16:50:44.959550Z"
    }
   },
   "outputs": [
    {
     "data": {
      "text/html": [
       "<div>\n",
       "<style scoped>\n",
       "    .dataframe tbody tr th:only-of-type {\n",
       "        vertical-align: middle;\n",
       "    }\n",
       "\n",
       "    .dataframe tbody tr th {\n",
       "        vertical-align: top;\n",
       "    }\n",
       "\n",
       "    .dataframe thead th {\n",
       "        text-align: right;\n",
       "    }\n",
       "</style>\n",
       "<table border=\"1\" class=\"dataframe\">\n",
       "  <thead>\n",
       "    <tr style=\"text-align: right;\">\n",
       "      <th></th>\n",
       "      <th>timestamp</th>\n",
       "      <th>date</th>\n",
       "      <th>time</th>\n",
       "      <th>score</th>\n",
       "      <th>temp</th>\n",
       "      <th>humid</th>\n",
       "      <th>co2</th>\n",
       "      <th>voc</th>\n",
       "      <th>pm25</th>\n",
       "      <th>temp_score</th>\n",
       "      <th>humid_score</th>\n",
       "      <th>co2_score</th>\n",
       "      <th>voc_score</th>\n",
       "      <th>pm25</th>\n",
       "    </tr>\n",
       "  </thead>\n",
       "  <tbody>\n",
       "    <tr>\n",
       "      <th>0</th>\n",
       "      <td>2020-05-27T16:50:43.908Z</td>\n",
       "      <td>2020-05-27</td>\n",
       "      <td>16:50:43.908</td>\n",
       "      <td>84.0</td>\n",
       "      <td>79.8</td>\n",
       "      <td>47.5</td>\n",
       "      <td>956.0</td>\n",
       "      <td>197.0</td>\n",
       "      <td>1.0</td>\n",
       "      <td>2.0</td>\n",
       "      <td>0.0</td>\n",
       "      <td>1.0</td>\n",
       "      <td>0.0</td>\n",
       "      <td>0.0</td>\n",
       "    </tr>\n",
       "  </tbody>\n",
       "</table>\n",
       "</div>"
      ],
      "text/plain": [
       "                  timestamp        date          time  score  temp  humid  \\\n",
       "0  2020-05-27T16:50:43.908Z  2020-05-27  16:50:43.908   84.0  79.8   47.5   \n",
       "\n",
       "     co2    voc  pm25  temp_score  humid_score  co2_score  voc_score  pm25  \n",
       "0  956.0  197.0   1.0         2.0          0.0        1.0        0.0   0.0  "
      ]
     },
     "execution_count": 11,
     "metadata": {},
     "output_type": "execute_result"
    }
   ],
   "source": [
    "df = json_to_df(response)\n",
    "df"
   ]
  },
  {
   "cell_type": "code",
   "execution_count": 12,
   "metadata": {
    "ExecuteTime": {
     "end_time": "2020-05-27T16:50:44.994039Z",
     "start_time": "2020-05-27T16:50:44.990206Z"
    }
   },
   "outputs": [],
   "source": [
    "df.to_csv('export.csv')"
   ]
  },
  {
   "cell_type": "code",
   "execution_count": null,
   "metadata": {},
   "outputs": [],
   "source": []
  }
 ],
 "metadata": {
  "kernelspec": {
   "display_name": "Python 3",
   "language": "python",
   "name": "python3"
  },
  "language_info": {
   "codemirror_mode": {
    "name": "ipython",
    "version": 3
   },
   "file_extension": ".py",
   "mimetype": "text/x-python",
   "name": "python",
   "nbconvert_exporter": "python",
   "pygments_lexer": "ipython3",
   "version": "3.7.3"
  },
  "toc": {
   "base_numbering": 1,
   "nav_menu": {},
   "number_sections": true,
   "sideBar": true,
   "skip_h1_title": false,
   "title_cell": "Table of Contents",
   "title_sidebar": "Contents",
   "toc_cell": false,
   "toc_position": {},
   "toc_section_display": true,
   "toc_window_display": false
  }
 },
 "nbformat": 4,
 "nbformat_minor": 2
}
