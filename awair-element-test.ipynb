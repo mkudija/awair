{
 "cells": [
  {
   "cell_type": "code",
   "execution_count": 1,
   "metadata": {
    "ExecuteTime": {
     "end_time": "2020-05-26T18:35:44.919671Z",
     "start_time": "2020-05-26T18:35:44.911855Z"
    }
   },
   "outputs": [
    {
     "data": {
      "text/plain": [
       "'2020-05-26T14:35:44.912883'"
      ]
     },
     "execution_count": 1,
     "metadata": {},
     "output_type": "execute_result"
    }
   ],
   "source": [
    "import datetime\n",
    "datetime.datetime.now().isoformat()"
   ]
  },
  {
   "cell_type": "code",
   "execution_count": 2,
   "metadata": {
    "ExecuteTime": {
     "end_time": "2020-05-26T18:35:46.430701Z",
     "start_time": "2020-05-26T18:35:44.921412Z"
    }
   },
   "outputs": [],
   "source": [
    "import pandas as pd\n",
    "import requests\n",
    "import json"
   ]
  },
  {
   "cell_type": "markdown",
   "metadata": {},
   "source": [
    "### Get latest data"
   ]
  },
  {
   "cell_type": "code",
   "execution_count": 3,
   "metadata": {
    "ExecuteTime": {
     "end_time": "2020-05-26T18:35:46.856237Z",
     "start_time": "2020-05-26T18:35:46.432968Z"
    }
   },
   "outputs": [
    {
     "name": "stdout",
     "output_type": "stream",
     "text": [
      "b'{\"data\":[{\"timestamp\":\"2020-05-26T18:35:43.443Z\",\"score\":87.0,\"sensors\":[{\"comp\":\"temp\",\"value\":79.17799835205078},{\"comp\":\"humid\",\"value\":48.81999969482422},{\"comp\":\"co2\",\"value\":833.0},{\"comp\":\"voc\",\"value\":138.0},{\"comp\":\"pm25\",\"value\":2.0}],\"indices\":[{\"comp\":\"temp\",\"value\":1.0},{\"comp\":\"humid\",\"value\":0.0},{\"comp\":\"co2\",\"value\":1.0},{\"comp\":\"voc\",\"value\":0.0},{\"comp\":\"pm25\",\"value\":0.0}]}]}'\n"
     ]
    }
   ],
   "source": [
    "url = \"https://developer-apis.awair.is/v1/users/self/devices/awair-element/1714/air-data/latest?fahrenheit=TRUE\"\n",
    "access_token = file1 = open('/Users/matthewkudija/Downloads/awair-access-token.txt','r').read()\n",
    "payload = {}\n",
    "headers = {\n",
    "  'Authorization': 'Bearer '+access_token\n",
    "}\n",
    "\n",
    "response = requests.request(\"GET\", url, headers=headers, data = payload)\n",
    "\n",
    "print(response.text.encode('utf8'))"
   ]
  },
  {
   "cell_type": "markdown",
   "metadata": {},
   "source": [
    "### 5-Min Avg Air Data"
   ]
  },
  {
   "cell_type": "code",
   "execution_count": 4,
   "metadata": {
    "ExecuteTime": {
     "end_time": "2020-05-26T18:35:47.165076Z",
     "start_time": "2020-05-26T18:35:46.858345Z"
    }
   },
   "outputs": [
    {
     "name": "stdout",
     "output_type": "stream",
     "text": [
      "b'{\"data\":[{\"timestamp\":\"2020-05-26T10:35:00.000Z\",\"score\":85.30000305175781,\"sensors\":[{\"comp\":\"temp\",\"value\":75.4879997253418},{\"comp\":\"humid\",\"value\":59.77399826049805},{\"comp\":\"co2\",\"value\":908.2000122070312},{\"comp\":\"voc\",\"value\":205.76666259765625},{\"comp\":\"pm25\",\"value\":3.8333332538604736}],\"indices\":[{\"comp\":\"temp\",\"value\":0.0},{\"comp\":\"humid\",\"value\":1.0},{\"comp\":\"co2\",\"value\":1.0},{\"comp\":\"voc\",\"value\":0.0},{\"comp\":\"pm25\",\"value\":0.0}]}]}'\n"
     ]
    }
   ],
   "source": [
    "url = \"https://developer-apis.awair.is/v1/users/self/devices/awair-element/1714/air-data/5-min-avg?from=2020-05-26T10:35:00&to=2020-05-26T10:40:00&limit=288&desc=TRUE&fahrenheit=TRUE\"\n",
    "\n",
    "payload = {}\n",
    "headers = {\n",
    "  'Authorization': 'Bearer '+access_token\n",
    "}\n",
    "\n",
    "response = requests.request(\"GET\", url, headers=headers, data = payload)\n",
    "\n",
    "print(response.text.encode('utf8'))"
   ]
  },
  {
   "cell_type": "markdown",
   "metadata": {},
   "source": [
    "### 15-Min Avg Air Data"
   ]
  },
  {
   "cell_type": "code",
   "execution_count": 5,
   "metadata": {
    "ExecuteTime": {
     "end_time": "2020-05-26T18:35:47.463897Z",
     "start_time": "2020-05-26T18:35:47.166659Z"
    }
   },
   "outputs": [
    {
     "name": "stdout",
     "output_type": "stream",
     "text": [
      "b'{\"data\":[{\"timestamp\":\"2020-05-26T10:30:00.000Z\",\"score\":84.71302795410156,\"sensors\":[{\"comp\":\"temp\",\"value\":75.58893089294433},{\"comp\":\"humid\",\"value\":60.103424072265625},{\"comp\":\"co2\",\"value\":919.7360229492188},{\"comp\":\"voc\",\"value\":217.5808359781901},{\"comp\":\"pm25\",\"value\":3.7448275883992515}],\"indices\":[{\"comp\":\"temp\",\"value\":0.0},{\"comp\":\"humid\",\"value\":1.2643678188323975},{\"comp\":\"co2\",\"value\":1.0},{\"comp\":\"voc\",\"value\":0.057471265395482383},{\"comp\":\"pm25\",\"value\":0.0}]}]}'\n"
     ]
    }
   ],
   "source": [
    "url = \"https://developer-apis.awair.is/v1/users/self/devices/awair-element/1714/air-data/15-min-avg?from=2020-05-26T10:30:00&to=2020-05-26T10:45:00&limit=672&desc=TRUE&fahrenheit=TRUE\"\n",
    "\n",
    "payload = {}\n",
    "headers = {\n",
    "  'Authorization': 'Bearer '+access_token\n",
    "}\n",
    "\n",
    "response = requests.request(\"GET\", url, headers=headers, data = payload)\n",
    "\n",
    "print(response.text.encode('utf8'))"
   ]
  },
  {
   "cell_type": "code",
   "execution_count": 6,
   "metadata": {
    "ExecuteTime": {
     "end_time": "2020-05-26T18:35:47.468128Z",
     "start_time": "2020-05-26T18:35:47.465271Z"
    }
   },
   "outputs": [],
   "source": [
    "data = json.loads(response.text)['data']\n",
    "timestamp = data[0]['timestamp']\n",
    "score = data[0]['score']"
   ]
  },
  {
   "cell_type": "code",
   "execution_count": 7,
   "metadata": {
    "ExecuteTime": {
     "end_time": "2020-05-26T18:35:47.491258Z",
     "start_time": "2020-05-26T18:35:47.469680Z"
    }
   },
   "outputs": [
    {
     "name": "stdout",
     "output_type": "stream",
     "text": [
      "comp   temp  humid    co2    voc  pm25\n",
      "value  75.6   60.1  919.7  217.6   3.7\n"
     ]
    }
   ],
   "source": [
    "# sensor data\n",
    "from pandas.io.json import json_normalize \n",
    "\n",
    "sensors = (json_normalize(data, 'sensors')\n",
    "      .set_index('comp')\n",
    "      .T\n",
    "      .round(1)\n",
    "     )\n",
    "print(sensors)"
   ]
  },
  {
   "cell_type": "code",
   "execution_count": 8,
   "metadata": {
    "ExecuteTime": {
     "end_time": "2020-05-26T18:35:47.501972Z",
     "start_time": "2020-05-26T18:35:47.493171Z"
    }
   },
   "outputs": [
    {
     "name": "stdout",
     "output_type": "stream",
     "text": [
      "comp   temp  humid  co2  voc  pm25\n",
      "value   0.0    1.3  1.0  0.1   0.0\n"
     ]
    }
   ],
   "source": [
    "# detailed scores\n",
    "from pandas.io.json import json_normalize \n",
    "\n",
    "scores = (json_normalize(data, 'indices')\n",
    "      .set_index('comp')\n",
    "      .T\n",
    "      .round(1)\n",
    "     )\n",
    "print(scores)"
   ]
  },
  {
   "cell_type": "code",
   "execution_count": null,
   "metadata": {},
   "outputs": [],
   "source": []
  }
 ],
 "metadata": {
  "kernelspec": {
   "display_name": "Python 3",
   "language": "python",
   "name": "python3"
  },
  "language_info": {
   "codemirror_mode": {
    "name": "ipython",
    "version": 3
   },
   "file_extension": ".py",
   "mimetype": "text/x-python",
   "name": "python",
   "nbconvert_exporter": "python",
   "pygments_lexer": "ipython3",
   "version": "3.7.3"
  },
  "toc": {
   "base_numbering": 1,
   "nav_menu": {},
   "number_sections": true,
   "sideBar": true,
   "skip_h1_title": false,
   "title_cell": "Table of Contents",
   "title_sidebar": "Contents",
   "toc_cell": false,
   "toc_position": {},
   "toc_section_display": true,
   "toc_window_display": false
  }
 },
 "nbformat": 4,
 "nbformat_minor": 2
}
