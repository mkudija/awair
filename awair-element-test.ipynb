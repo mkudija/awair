{
 "cells": [
  {
   "cell_type": "code",
   "execution_count": 1,
   "metadata": {
    "ExecuteTime": {
     "end_time": "2020-05-26T14:33:17.800814Z",
     "start_time": "2020-05-26T14:33:17.464808Z"
    }
   },
   "outputs": [
    {
     "name": "stdout",
     "output_type": "stream",
     "text": [
      "b'{\"data\":[{\"timestamp\":\"2020-05-26T14:33:17.010Z\",\"score\":83.0,\"sensors\":[{\"comp\":\"temp\",\"value\":81.08600082397462},{\"comp\":\"humid\",\"value\":48.63999938964844},{\"comp\":\"co2\",\"value\":941.0},{\"comp\":\"voc\",\"value\":186.0},{\"comp\":\"pm25\",\"value\":3.0}],\"indices\":[{\"comp\":\"temp\",\"value\":2.0},{\"comp\":\"humid\",\"value\":0.0},{\"comp\":\"co2\",\"value\":1.0},{\"comp\":\"voc\",\"value\":0.0},{\"comp\":\"pm25\",\"value\":0.0}]}]}'\n"
     ]
    }
   ],
   "source": [
    "import requests\n",
    "\n",
    "url = \"https://developer-apis.awair.is/v1/users/self/devices/awair-element/1714/air-data/latest?fahrenheit=TRUE\"\n",
    "access_token = file1 = open('/Users/matthewkudija/Downloads/awair-access-token.txt','r').read()\n",
    "payload = {}\n",
    "headers = {\n",
    "  'Authorization': 'Bearer '+access_token\n",
    "}\n",
    "\n",
    "response = requests.request(\"GET\", url, headers=headers, data = payload)\n",
    "\n",
    "print(response.text.encode('utf8'))"
   ]
  },
  {
   "cell_type": "code",
   "execution_count": null,
   "metadata": {},
   "outputs": [],
   "source": []
  }
 ],
 "metadata": {
  "kernelspec": {
   "display_name": "Python 3",
   "language": "python",
   "name": "python3"
  },
  "language_info": {
   "codemirror_mode": {
    "name": "ipython",
    "version": 3
   },
   "file_extension": ".py",
   "mimetype": "text/x-python",
   "name": "python",
   "nbconvert_exporter": "python",
   "pygments_lexer": "ipython3",
   "version": "3.7.3"
  },
  "toc": {
   "base_numbering": 1,
   "nav_menu": {},
   "number_sections": true,
   "sideBar": true,
   "skip_h1_title": false,
   "title_cell": "Table of Contents",
   "title_sidebar": "Contents",
   "toc_cell": false,
   "toc_position": {},
   "toc_section_display": true,
   "toc_window_display": false
  }
 },
 "nbformat": 4,
 "nbformat_minor": 2
}
