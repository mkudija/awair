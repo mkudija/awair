{
 "cells": [
  {
   "cell_type": "code",
   "execution_count": 1,
   "metadata": {
    "ExecuteTime": {
     "end_time": "2020-05-27T01:11:25.339682Z",
     "start_time": "2020-05-27T01:11:25.331300Z"
    }
   },
   "outputs": [
    {
     "data": {
      "text/plain": [
       "'2020-05-26T21:11:25.332383'"
      ]
     },
     "execution_count": 1,
     "metadata": {},
     "output_type": "execute_result"
    }
   ],
   "source": [
    "import datetime\n",
    "datetime.datetime.now().isoformat()"
   ]
  },
  {
   "cell_type": "code",
   "execution_count": 2,
   "metadata": {
    "ExecuteTime": {
     "end_time": "2020-05-27T01:11:25.832431Z",
     "start_time": "2020-05-27T01:11:25.341575Z"
    }
   },
   "outputs": [],
   "source": [
    "import pandas as pd\n",
    "import requests\n",
    "import json"
   ]
  },
  {
   "cell_type": "markdown",
   "metadata": {},
   "source": [
    "### Get latest data"
   ]
  },
  {
   "cell_type": "code",
   "execution_count": 3,
   "metadata": {
    "ExecuteTime": {
     "end_time": "2020-05-27T01:11:26.101013Z",
     "start_time": "2020-05-27T01:11:25.833676Z"
    }
   },
   "outputs": [
    {
     "name": "stdout",
     "output_type": "stream",
     "text": [
      "b'{\"data\":[{\"timestamp\":\"2020-05-27T01:11:24.336Z\",\"score\":89.0,\"sensors\":[{\"comp\":\"temp\",\"value\":78.96200027465821},{\"comp\":\"humid\",\"value\":52.08000183105469},{\"comp\":\"co2\",\"value\":602.0},{\"comp\":\"voc\",\"value\":32.0},{\"comp\":\"pm25\",\"value\":3.0}],\"indices\":[{\"comp\":\"temp\",\"value\":1.0},{\"comp\":\"humid\",\"value\":1.0},{\"comp\":\"co2\",\"value\":1.0},{\"comp\":\"voc\",\"value\":0.0},{\"comp\":\"pm25\",\"value\":0.0}]}]}'\n"
     ]
    }
   ],
   "source": [
    "url = \"https://developer-apis.awair.is/v1/users/self/devices/awair-element/1714/air-data/latest?fahrenheit=TRUE\"\n",
    "access_token = file1 = open('/Users/matthewkudija/Downloads/awair-access-token.txt','r').read()\n",
    "payload = {}\n",
    "headers = {\n",
    "  'Authorization': 'Bearer '+access_token\n",
    "}\n",
    "\n",
    "response = requests.request(\"GET\", url, headers=headers, data = payload)\n",
    "\n",
    "print(response.text.encode('utf8'))"
   ]
  },
  {
   "cell_type": "markdown",
   "metadata": {},
   "source": [
    "### 5-Min Avg Air Data"
   ]
  },
  {
   "cell_type": "code",
   "execution_count": 4,
   "metadata": {
    "ExecuteTime": {
     "end_time": "2020-05-27T01:11:26.281444Z",
     "start_time": "2020-05-27T01:11:26.103058Z"
    }
   },
   "outputs": [
    {
     "name": "stdout",
     "output_type": "stream",
     "text": [
      "b'{\"data\":[{\"timestamp\":\"2020-05-26T10:35:00.000Z\",\"score\":85.30000305175781,\"sensors\":[{\"comp\":\"temp\",\"value\":75.4879997253418},{\"comp\":\"humid\",\"value\":59.77399826049805},{\"comp\":\"co2\",\"value\":908.2000122070312},{\"comp\":\"voc\",\"value\":205.76666259765625},{\"comp\":\"pm25\",\"value\":3.8333332538604736}],\"indices\":[{\"comp\":\"temp\",\"value\":0.0},{\"comp\":\"humid\",\"value\":1.0},{\"comp\":\"co2\",\"value\":1.0},{\"comp\":\"voc\",\"value\":0.0},{\"comp\":\"pm25\",\"value\":0.0}]}]}'\n"
     ]
    }
   ],
   "source": [
    "url = \"https://developer-apis.awair.is/v1/users/self/devices/awair-element/1714/air-data/5-min-avg?from=2020-05-26T10:35:00&to=2020-05-26T10:40:00&limit=288&desc=TRUE&fahrenheit=TRUE\"\n",
    "\n",
    "payload = {}\n",
    "headers = {\n",
    "  'Authorization': 'Bearer '+access_token\n",
    "}\n",
    "\n",
    "response = requests.request(\"GET\", url, headers=headers, data = payload)\n",
    "\n",
    "print(response.text.encode('utf8'))"
   ]
  },
  {
   "cell_type": "markdown",
   "metadata": {},
   "source": [
    "### 15-Min Avg Air Data"
   ]
  },
  {
   "cell_type": "code",
   "execution_count": 5,
   "metadata": {
    "ExecuteTime": {
     "end_time": "2020-05-27T01:11:26.511226Z",
     "start_time": "2020-05-27T01:11:26.283096Z"
    }
   },
   "outputs": [
    {
     "name": "stdout",
     "output_type": "stream",
     "text": [
      "b'{\"data\":[{\"timestamp\":\"2020-05-26T10:30:00.000Z\",\"score\":84.71302795410156,\"sensors\":[{\"comp\":\"temp\",\"value\":75.58893089294433},{\"comp\":\"humid\",\"value\":60.103424072265625},{\"comp\":\"co2\",\"value\":919.7360229492188},{\"comp\":\"voc\",\"value\":217.5808359781901},{\"comp\":\"pm25\",\"value\":3.7448275883992515}],\"indices\":[{\"comp\":\"temp\",\"value\":0.0},{\"comp\":\"humid\",\"value\":1.2643678188323975},{\"comp\":\"co2\",\"value\":1.0},{\"comp\":\"voc\",\"value\":0.057471265395482383},{\"comp\":\"pm25\",\"value\":0.0}]}]}'\n"
     ]
    }
   ],
   "source": [
    "url = \"https://developer-apis.awair.is/v1/users/self/devices/awair-element/1714/air-data/15-min-avg?from=2020-05-26T10:30:00&to=2020-05-26T10:45:00&limit=672&desc=TRUE&fahrenheit=TRUE\"\n",
    "\n",
    "payload = {}\n",
    "headers = {\n",
    "  'Authorization': 'Bearer '+access_token\n",
    "}\n",
    "\n",
    "response = requests.request(\"GET\", url, headers=headers, data = payload)\n",
    "\n",
    "print(response.text.encode('utf8'))"
   ]
  },
  {
   "cell_type": "code",
   "execution_count": 6,
   "metadata": {
    "ExecuteTime": {
     "end_time": "2020-05-27T01:11:26.517509Z",
     "start_time": "2020-05-27T01:11:26.513505Z"
    }
   },
   "outputs": [],
   "source": [
    "data = json.loads(response.text)['data']\n",
    "timestamp = data[0]['timestamp']\n",
    "score = round(data[0]['score'],1)"
   ]
  },
  {
   "cell_type": "code",
   "execution_count": 7,
   "metadata": {
    "ExecuteTime": {
     "end_time": "2020-05-27T01:11:26.535791Z",
     "start_time": "2020-05-27T01:11:26.519348Z"
    }
   },
   "outputs": [
    {
     "name": "stdout",
     "output_type": "stream",
     "text": [
      "comp  temp  humid    co2    voc  pm25\n",
      "0     75.6   60.1  919.7  217.6   3.7\n"
     ]
    }
   ],
   "source": [
    "# sensor data\n",
    "from pandas.io.json import json_normalize \n",
    "\n",
    "sensors = (json_normalize(data, 'sensors')\n",
    "      .set_index('comp')\n",
    "      .T\n",
    "      .round(1)\n",
    "      .reset_index(drop=True)\n",
    "     )\n",
    "print(sensors)"
   ]
  },
  {
   "cell_type": "code",
   "execution_count": 8,
   "metadata": {
    "ExecuteTime": {
     "end_time": "2020-05-27T01:11:26.553107Z",
     "start_time": "2020-05-27T01:11:26.538907Z"
    }
   },
   "outputs": [
    {
     "name": "stdout",
     "output_type": "stream",
     "text": [
      "comp  temp_score  humid_score  co2_score  voc_score  pm25\n",
      "0            0.0          1.3        1.0        0.1   0.0\n"
     ]
    }
   ],
   "source": [
    "# detailed scores\n",
    "from pandas.io.json import json_normalize \n",
    "\n",
    "scores = (json_normalize(data, 'indices')\n",
    "      .set_index('comp')\n",
    "      .T\n",
    "      .round(1)\n",
    "      .reset_index(drop=True)\n",
    "      .rename(columns={'temp': 'temp_score',\n",
    "                       'humid': 'humid_score',\n",
    "                       'co2': 'co2_score',\n",
    "                       'voc': 'voc_score',\n",
    "                       'pm25': 'pm25'\n",
    "                      })\n",
    "     )\n",
    "\n",
    "print(scores)"
   ]
  },
  {
   "cell_type": "code",
   "execution_count": 9,
   "metadata": {
    "ExecuteTime": {
     "end_time": "2020-05-27T01:11:26.566064Z",
     "start_time": "2020-05-27T01:11:26.555589Z"
    }
   },
   "outputs": [
    {
     "data": {
      "text/html": [
       "<div>\n",
       "<style scoped>\n",
       "    .dataframe tbody tr th:only-of-type {\n",
       "        vertical-align: middle;\n",
       "    }\n",
       "\n",
       "    .dataframe tbody tr th {\n",
       "        vertical-align: top;\n",
       "    }\n",
       "\n",
       "    .dataframe thead th {\n",
       "        text-align: right;\n",
       "    }\n",
       "</style>\n",
       "<table border=\"1\" class=\"dataframe\">\n",
       "  <thead>\n",
       "    <tr style=\"text-align: right;\">\n",
       "      <th></th>\n",
       "      <th>timestamp</th>\n",
       "      <th>score</th>\n",
       "    </tr>\n",
       "  </thead>\n",
       "  <tbody>\n",
       "    <tr>\n",
       "      <th>0</th>\n",
       "      <td>2020-05-26T10:30:00.000Z</td>\n",
       "      <td>84.7</td>\n",
       "    </tr>\n",
       "  </tbody>\n",
       "</table>\n",
       "</div>"
      ],
      "text/plain": [
       "                  timestamp  score\n",
       "0  2020-05-26T10:30:00.000Z   84.7"
      ]
     },
     "execution_count": 9,
     "metadata": {},
     "output_type": "execute_result"
    }
   ],
   "source": [
    "df = (pd.DataFrame([[timestamp, score]], \n",
    "                  columns = ['timestamp', 'score'])\n",
    "#        .set_index('timestamp')\n",
    "     )\n",
    "df"
   ]
  },
  {
   "cell_type": "code",
   "execution_count": 10,
   "metadata": {
    "ExecuteTime": {
     "end_time": "2020-05-27T01:11:26.583030Z",
     "start_time": "2020-05-27T01:11:26.567652Z"
    }
   },
   "outputs": [
    {
     "data": {
      "text/html": [
       "<div>\n",
       "<style scoped>\n",
       "    .dataframe tbody tr th:only-of-type {\n",
       "        vertical-align: middle;\n",
       "    }\n",
       "\n",
       "    .dataframe tbody tr th {\n",
       "        vertical-align: top;\n",
       "    }\n",
       "\n",
       "    .dataframe thead th {\n",
       "        text-align: right;\n",
       "    }\n",
       "</style>\n",
       "<table border=\"1\" class=\"dataframe\">\n",
       "  <thead>\n",
       "    <tr style=\"text-align: right;\">\n",
       "      <th></th>\n",
       "      <th>timestamp</th>\n",
       "      <th>score</th>\n",
       "      <th>temp</th>\n",
       "      <th>humid</th>\n",
       "      <th>co2</th>\n",
       "      <th>voc</th>\n",
       "      <th>pm25</th>\n",
       "      <th>temp_score</th>\n",
       "      <th>humid_score</th>\n",
       "      <th>co2_score</th>\n",
       "      <th>voc_score</th>\n",
       "      <th>pm25</th>\n",
       "    </tr>\n",
       "  </thead>\n",
       "  <tbody>\n",
       "    <tr>\n",
       "      <th>0</th>\n",
       "      <td>2020-05-26T10:30:00.000Z</td>\n",
       "      <td>84.7</td>\n",
       "      <td>75.6</td>\n",
       "      <td>60.1</td>\n",
       "      <td>919.7</td>\n",
       "      <td>217.6</td>\n",
       "      <td>3.7</td>\n",
       "      <td>0.0</td>\n",
       "      <td>1.3</td>\n",
       "      <td>1.0</td>\n",
       "      <td>0.1</td>\n",
       "      <td>0.0</td>\n",
       "    </tr>\n",
       "  </tbody>\n",
       "</table>\n",
       "</div>"
      ],
      "text/plain": [
       "                  timestamp  score  temp  humid    co2    voc  pm25  \\\n",
       "0  2020-05-26T10:30:00.000Z   84.7  75.6   60.1  919.7  217.6   3.7   \n",
       "\n",
       "   temp_score  humid_score  co2_score  voc_score  pm25  \n",
       "0         0.0          1.3        1.0        0.1   0.0  "
      ]
     },
     "execution_count": 10,
     "metadata": {},
     "output_type": "execute_result"
    }
   ],
   "source": [
    "df = pd.concat([df,sensors,scores],\n",
    "               axis=1,\n",
    "               sort=True\n",
    "              )\n",
    "df"
   ]
  },
  {
   "cell_type": "code",
   "execution_count": null,
   "metadata": {},
   "outputs": [],
   "source": []
  }
 ],
 "metadata": {
  "kernelspec": {
   "display_name": "Python 3",
   "language": "python",
   "name": "python3"
  },
  "language_info": {
   "codemirror_mode": {
    "name": "ipython",
    "version": 3
   },
   "file_extension": ".py",
   "mimetype": "text/x-python",
   "name": "python",
   "nbconvert_exporter": "python",
   "pygments_lexer": "ipython3",
   "version": "3.7.3"
  },
  "toc": {
   "base_numbering": 1,
   "nav_menu": {},
   "number_sections": true,
   "sideBar": true,
   "skip_h1_title": false,
   "title_cell": "Table of Contents",
   "title_sidebar": "Contents",
   "toc_cell": false,
   "toc_position": {},
   "toc_section_display": true,
   "toc_window_display": false
  }
 },
 "nbformat": 4,
 "nbformat_minor": 2
}
